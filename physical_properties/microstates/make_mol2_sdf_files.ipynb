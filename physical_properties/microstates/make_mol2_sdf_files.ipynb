{
 "cells": [
  {
   "cell_type": "code",
   "execution_count": 2,
   "metadata": {},
   "outputs": [],
   "source": [
    "from openeye.oechem import *\n",
    "from openeye.oeomega import *\n",
    "import pandas as pd\n",
    "\n",
    "csv = \"SAMPL8_molecule_ID_and_SMILES.csv\"\n",
    "redo = []\n",
    "\n",
    "with open(csv) as file:\n",
    "    #next(file)\n",
    "    for line in file:\n",
    "        #initialize omega, this is a conformation generator\n",
    "        omega = OEOmega()\n",
    "        #set the maximum conformer generated to 1\n",
    "        omega.SetMaxConfs(1) \n",
    "        omega.SetIncludeInput(False)\n",
    "        #Leniency in assigning atom types\n",
    "        omega.SetStrictAtomTypes(False) \n",
    "        # Don't generate conformers if stereochemistry not provided\n",
    "        # Setting to false would pick a random stereoisomer\n",
    "        omega.SetStrictStereo(True) \n",
    "\n",
    "        # Generate OEMol \n",
    "        mol = OEMol()\n",
    "        name = line.split(',')[0]\n",
    "        smiles = line.split(',')[1].strip()\n",
    "        OEParseSmiles(mol, smiles)\n",
    "        #print(\"canonical\",OECreateCanSmiString(mol))\n",
    "\n",
    "        #Parse the SMILES string\n",
    "        OEParseSmiles(mol, smiles)\n",
    "        status = omega(mol)\n",
    "        if not status:\n",
    "            print(\"Error generating conformers for %s, %s.\" % (smiles, name))\n",
    "            redo.append([name,smiles])\n",
    "        \n",
    "        # Write out PDB of molecule\n",
    "        ofile = oemolostream('%s.pdb'%(name))\n",
    "        OEWriteMolecule(ofile, mol)\n",
    "        ofile.close()\n",
    "        \n",
    "        # Write out MOL2 of molecule\n",
    "        ofile = oemolostream('%s.mol2'%(name))\n",
    "        OEWriteMolecule(ofile, mol)\n",
    "        ofile.close()\n",
    "\n",
    "        # Write out SDF of molecule\n",
    "        ofile = oemolostream('%s.sdf'%(name))\n",
    "        OEWriteMolecule(ofile, mol)\n",
    "        ofile.close()"
   ]
  },
  {
   "cell_type": "code",
   "execution_count": null,
   "metadata": {},
   "outputs": [],
   "source": []
  }
 ],
 "metadata": {
  "kernelspec": {
   "display_name": "Python [conda env:s7] *",
   "language": "python",
   "name": "conda-env-s7-py"
  }
 },
 "nbformat": 4,
 "nbformat_minor": 4
}
