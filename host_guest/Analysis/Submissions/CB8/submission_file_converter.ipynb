{
 "cells": [
  {
   "cell_type": "code",
   "execution_count": 1,
   "metadata": {},
   "outputs": [],
   "source": [
    "# check submission files, if ext not .txt convert or add it\n",
    "import os\n",
    "from os import listdir\n",
    "from os.path import isfile, join"
   ]
  },
  {
   "cell_type": "code",
   "execution_count": 2,
   "metadata": {},
   "outputs": [],
   "source": [
    "# define list of files\n",
    "FILES_DIR_PATH = \"/home/amezcum1/SAMPL8/host_guest/Analysis/Submissions/CB8/\""
   ]
  },
  {
   "cell_type": "code",
   "execution_count": 3,
   "metadata": {},
   "outputs": [
    {
     "name": "stdout",
     "output_type": "stream",
     "text": [
      "['CB8-Hansen-1.txt', 'CB8-Hansen-2.txt', 'CB8_MahdiGhorbani.dat.txt', 'CB8_NIH0.txt', 'CB8_NIH1.dat', 'CB8_NIH10.dat', 'CB8_NIH11.dat', 'CB8_NIH12.dat', 'CB8_NIH2.dat', 'CB8_NIH3.dat', 'CB8_NIH4.dat', 'CB8_NIH5.dat', 'CB8_NIH6.dat', 'CB8_NIH7.txt', 'CB8_NIH8.dat', 'CB8_NIH9.dat', 'CB8_REF_GAFF2_MBAR.txt', 'CB8_REF_GAFF2_TI.txt', 'CB8_REF_OPENFF_MBAR.txt', 'CB8_REF_OPENFF_TI.txt', 'CB8_SILCS_rawLGFE.txt', 'CB8_SILCS_rawLGFE_G5.txt', 'CB8_SILCS_reweightedLGFE.txt', 'CB8_Selim_BigginLab.txt', 'CB8_Selim_BigginLab_Ranked.txt', 'CB8_Submission.txt', 'CB8_dserillon_CB8MLs_UNRANKED', 'CB8_dserillon_GlobalisticMLs_UNRANKED', 'CB8_dserillon_PhysicBasedMethod_BA_UNRANKED', 'CB8_dserillon_PhysicBasedMethod_RANKED', 'CB8_fm3_lw.txt', 'CB8_submission_ARNOLD.txt', 'CB8_submissions.txt', 'CB8_template', 'submission_file_converter.ipynb']\n"
     ]
    }
   ],
   "source": [
    "# define files\n",
    "onlyfiles = [f for f in listdir(FILES_DIR_PATH) if isfile(join(FILES_DIR_PATH, f))]\n",
    "print(onlyfiles)"
   ]
  },
  {
   "cell_type": "code",
   "execution_count": 4,
   "metadata": {
    "scrolled": true
   },
   "outputs": [
    {
     "name": "stdout",
     "output_type": "stream",
     "text": [
      "CB8-Hansen-1.txt file ext is correct! Skipping ... \n",
      "CB8-Hansen-2.txt file ext is correct! Skipping ... \n",
      "CB8_MahdiGhorbani.dat.txt file has two ext! Renaming\n",
      "CB8_NIH0.txt file ext is correct! Skipping ... \n",
      "CB8_NIH1.dat file ext needs fixing! Renaming ... \n",
      "CB8_NIH10.dat file ext needs fixing! Renaming ... \n",
      "CB8_NIH11.dat file ext needs fixing! Renaming ... \n",
      "CB8_NIH12.dat file ext needs fixing! Renaming ... \n",
      "CB8_NIH2.dat file ext needs fixing! Renaming ... \n",
      "CB8_NIH3.dat file ext needs fixing! Renaming ... \n",
      "CB8_NIH4.dat file ext needs fixing! Renaming ... \n",
      "CB8_NIH5.dat file ext needs fixing! Renaming ... \n",
      "CB8_NIH6.dat file ext needs fixing! Renaming ... \n",
      "CB8_NIH7.txt file ext is correct! Skipping ... \n",
      "CB8_NIH8.dat file ext needs fixing! Renaming ... \n",
      "CB8_NIH9.dat file ext needs fixing! Renaming ... \n",
      "CB8_REF_GAFF2_MBAR.txt file ext is correct! Skipping ... \n",
      "CB8_REF_GAFF2_TI.txt file ext is correct! Skipping ... \n",
      "CB8_REF_OPENFF_MBAR.txt file ext is correct! Skipping ... \n",
      "CB8_REF_OPENFF_TI.txt file ext is correct! Skipping ... \n",
      "CB8_SILCS_rawLGFE.txt file ext is correct! Skipping ... \n",
      "CB8_SILCS_rawLGFE_G5.txt file ext is correct! Skipping ... \n",
      "CB8_SILCS_reweightedLGFE.txt file ext is correct! Skipping ... \n",
      "CB8_Selim_BigginLab.txt file ext is correct! Skipping ... \n",
      "CB8_Selim_BigginLab_Ranked.txt file ext is correct! Skipping ... \n",
      "CB8_Submission.txt file ext is correct! Skipping ... \n",
      "CB8_dserillon_CB8MLs_UNRANKED file ext needs fixing! Renaming ... \n",
      "CB8_dserillon_GlobalisticMLs_UNRANKED file ext needs fixing! Renaming ... \n",
      "CB8_dserillon_PhysicBasedMethod_BA_UNRANKED file ext needs fixing! Renaming ... \n",
      "CB8_dserillon_PhysicBasedMethod_RANKED file ext needs fixing! Renaming ... \n",
      "CB8_fm3_lw.txt file ext is correct! Skipping ... \n",
      "CB8_submission_ARNOLD.txt file ext is correct! Skipping ... \n",
      "CB8_submissions.txt file ext is correct! Skipping ... \n"
     ]
    }
   ],
   "source": [
    "# iterate through the files, check that they have ext, if not add .txt\n",
    "# if not .txt ext than change it to .txt.\n",
    "\n",
    "for file in onlyfiles[0:33]: # skips template submission and jupyter notebook in the directory\n",
    "    #if files are correct ( have only .txt ext) ignore.\n",
    "    if '.txt' in file and not '.dat' in file:\n",
    "        print('{} file ext is correct! Skipping ... '.format(file))\n",
    "        continue\n",
    "        \n",
    "#     # if file has two ext names rename\n",
    "    if '.txt' in file and '.dat' in file:\n",
    "        print('{} file has two ext! Renaming'.format(file))\n",
    "        base = os.path.splitext(file)[0]\n",
    "        if '.dat' in base:\n",
    "            new_base = os.path.splitext(base)[0]\n",
    "            os.rename(file, new_base + \".txt\")\n",
    "    \n",
    "    # if .txt ext missing or something else, rename \n",
    "    if '.txt' not in file:\n",
    "        print('{} file ext needs fixing! Renaming ... '.format(file))\n",
    "        base = os.path.splitext(file)[0]\n",
    "        os.rename(file, base + \".txt\")"
   ]
  },
  {
   "cell_type": "code",
   "execution_count": null,
   "metadata": {},
   "outputs": [],
   "source": []
  }
 ],
 "metadata": {
  "kernelspec": {
   "display_name": "oepython",
   "language": "python",
   "name": "oepython"
  },
  "language_info": {
   "codemirror_mode": {
    "name": "ipython",
    "version": 3
   },
   "file_extension": ".py",
   "mimetype": "text/x-python",
   "name": "python",
   "nbconvert_exporter": "python",
   "pygments_lexer": "ipython3",
   "version": "3.6.7"
  }
 },
 "nbformat": 4,
 "nbformat_minor": 2
}
