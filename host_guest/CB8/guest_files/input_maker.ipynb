{
 "cells": [
  {
   "cell_type": "code",
   "execution_count": 1,
   "metadata": {},
   "outputs": [
    {
     "name": "stdout",
     "output_type": "stream",
     "text": [
      "Getting list of molecule IDs...\n",
      "Done!\n"
     ]
    }
   ],
   "source": [
    "# Make lists of the guest smiles strings and the molecule identifiers \n",
    "file = 'CB8_guest_smiles.txt'\n",
    "\n",
    "file = open(file, 'r')\n",
    "text = file.readlines()\n",
    "file.close()\n",
    "\n",
    "print(\"Getting list of molecule IDs...\")   \n",
    "MoleculeIDs = [] #SAMPL8 Molecule ID \n",
    "smiles = [] #isomeric SMILES\n",
    "\n",
    "#Loop over lines and parse\n",
    "for line in text:\n",
    "    tmp = line.split(';') #Split into columns\n",
    "    MoleculeID = tmp[1].strip() #mol ID\n",
    "    smi = tmp[0] #smiles string\n",
    "    try:\n",
    "        MoleculeIDs.append(MoleculeID)\n",
    "        smiles.append(smi)\n",
    "    except:\n",
    "        print(\"Error storing line: %s\" % line)\n",
    "print(\"Done!\")"
   ]
  },
  {
   "cell_type": "code",
   "execution_count": 2,
   "metadata": {},
   "outputs": [
    {
     "name": "stdout",
     "output_type": "stream",
     "text": [
      "Error generating conformers for O=C1CCCCC1(NC)C2=CC=CC=C2Cl, G5. Mol index is 4\n"
     ]
    }
   ],
   "source": [
    "from openeye.oechem import *\n",
    "from openeye.oeomega import * # conformer generation\n",
    "\n",
    "for idx in range( len( smiles ) ):\n",
    "    #initialize omega, this is a conformation generator\n",
    "    omega = OEOmega()\n",
    "    #set the maximum conformer generated to 1\n",
    "    omega.SetMaxConfs(1) \n",
    "    omega.SetIncludeInput(False)\n",
    "    omega.SetStrictAtomTypes(False) #Leniency in assigning atom types\n",
    "    omega.SetStrictStereo(True) #Don't generate conformers if stereochemistry not provided. Setting to false would pick a random stereoisomer\n",
    "    \n",
    "    # Generate new OEMol and parse SMILES\n",
    "    mol = OEMol()\n",
    "    OEParseSmiles( mol, smiles[idx])\n",
    "    # Generate one conformer\n",
    "    status = omega(mol)\n",
    "    if not status:\n",
    "        print(\"Error generating conformers for %s, %s. Mol index is %s\" % (smiles[idx], MoleculeIDs[idx],idx))\n",
    "\n",
    "    # Write out PDB of molecule\n",
    "    ofile = oemolostream('%s.pdb'%(MoleculeIDs[idx]))\n",
    "    OEWriteMolecule(ofile, mol)\n",
    "    ofile.close()\n",
    "\n",
    "    # Write out MOL2 of molecule\n",
    "    ofile = oemolostream('%s.mol2'%(MoleculeIDs[idx]))\n",
    "    OEWriteMolecule(ofile, mol)\n",
    "    ofile.close()\n",
    "    \n",
    "    # Write out SDF of molecule\n",
    "    ofile = oemolostream('%s.sdf'%(MoleculeIDs[idx]))\n",
    "    OEWriteMolecule(ofile, mol)\n",
    "    ofile.close()"
   ]
  },
  {
   "cell_type": "code",
   "execution_count": 3,
   "metadata": {},
   "outputs": [],
   "source": [
    "# Make files for O=C1CCCCC1(NC)C2=CC=CC=C2Cl (G4) by picking a random stereoisomer\n",
    "idx = 4\n",
    "\n",
    "omega = OEOmega()\n",
    "#set the maximum conformer generated to 1\n",
    "omega.SetMaxConfs(1) \n",
    "omega.SetIncludeInput(False)\n",
    "omega.SetStrictAtomTypes(False) #Leniency in assigning atom types\n",
    "omega.SetStrictStereo(False) #Don't generate conformers if stereochemistry not provided. Setting to false would pick a random stereoisomer\n",
    "\n",
    "# Generate new OEMol and parse SMILES\n",
    "mol = OEMol()\n",
    "OEParseSmiles( mol, smiles[idx])\n",
    "# Generate one conformer\n",
    "status = omega(mol)\n",
    "if not status:\n",
    "    print(\"Error generating conformers for %s, %s. Mol index is %s\" % (smiles[idx], MoleculeIDs[idx],idx))\n",
    "\n",
    "# Write out PDB of molecule\n",
    "ofile = oemolostream('%s.pdb'%(MoleculeIDs[idx]))\n",
    "OEWriteMolecule(ofile, mol)\n",
    "ofile.close()\n",
    "\n",
    "# Write out MOL2 of molecule\n",
    "ofile = oemolostream('%s.mol2'%(MoleculeIDs[idx]))\n",
    "OEWriteMolecule(ofile, mol)\n",
    "ofile.close()\n",
    "\n",
    "# Write out SDF of molecule\n",
    "ofile = oemolostream('%s.sdf'%(MoleculeIDs[idx]))\n",
    "OEWriteMolecule(ofile, mol)\n",
    "ofile.close()"
   ]
  },
  {
   "cell_type": "code",
   "execution_count": null,
   "metadata": {
    "collapsed": true
   },
   "outputs": [],
   "source": []
  }
 ],
 "metadata": {
  "kernelspec": {
   "display_name": "Python [conda env:root] *",
   "language": "python",
   "name": "conda-root-py"
  },
  "language_info": {
   "codemirror_mode": {
    "name": "ipython",
    "version": 3
   },
   "file_extension": ".py",
   "mimetype": "text/x-python",
   "name": "python",
   "nbconvert_exporter": "python",
   "pygments_lexer": "ipython3",
   "version": "3.7.3"
  },
  "toc": {
   "nav_menu": {},
   "number_sections": true,
   "sideBar": true,
   "skip_h1_title": false,
   "toc_cell": false,
   "toc_position": {},
   "toc_section_display": "block",
   "toc_window_display": false
  }
 },
 "nbformat": 4,
 "nbformat_minor": 2
}
