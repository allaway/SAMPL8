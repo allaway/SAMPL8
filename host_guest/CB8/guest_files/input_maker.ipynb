{
 "cells": [
  {
   "cell_type": "code",
   "execution_count": 3,
   "metadata": {},
   "outputs": [
    {
     "name": "stdout",
     "output_type": "stream",
     "text": [
      "Getting list of molecule IDs...\n",
      "Done!\n"
     ]
    }
   ],
   "source": [
    "# Make lists of the guest smiles strings and the molecule identifiers \n",
    "file = 'CB8_guest_smiles.txt'\n",
    "\n",
    "file = open(file, 'r')\n",
    "text = file.readlines()\n",
    "file.close()\n",
    "\n",
    "print(\"Getting list of molecule IDs...\")   \n",
    "MoleculeIDs = [] #SAMPL8 Molecule ID \n",
    "smiles = [] #isomeric SMILES\n",
    "\n",
    "#Loop over lines and parse\n",
    "for line in text:\n",
    "    tmp = line.split(';') #Split into columns\n",
    "    MoleculeID = tmp[1].strip() #mol ID\n",
    "    smi = tmp[0] #smiles string\n",
    "    try:\n",
    "        MoleculeIDs.append(MoleculeID)\n",
    "        smiles.append(smi)\n",
    "    except:\n",
    "        print(\"Error storing line: %s\" % line)\n",
    "print(\"Done!\")"
   ]
  },
  {
   "cell_type": "code",
   "execution_count": 4,
   "metadata": {},
   "outputs": [
    {
     "name": "stdout",
     "output_type": "stream",
     "text": [
      "Error generating conformers for CN(CC1)[C@H]2[C@]3([H])C=C[C@H](O)[C@@]4([H])[C@]31C5=C(O4)C(O)=CC=C5C2, G3. Mol index is 2\n",
      "Error generating conformers for CN(CC1)[C@H]2[C@]([C@]1([C@@]3([H])O4)C5=C4C(O)=CC=C5C2)([H])CCC3=O, G4. Mol index is 3\n",
      "Error generating conformers for O=C1CCCCC1(NC)C2=CC=CC=C2Cl, G5. Mol index is 4\n",
      "Error generating conformers for CN1[C@H]2CC[C@@H]1[C@@H](C(OCC)=O)[C@@H](OC(C3=CC=CC=C3)=O)C2, G7. Mol index is 6\n"
     ]
    }
   ],
   "source": [
    "from openeye.oechem import *\n",
    "from openeye.oeomega import * # conformer generation\n",
    "from openeye.oequacpac import * \n",
    "\n",
    "for idx in range( len( smiles ) ):\n",
    "    #initialize omega, this is a conformation generator\n",
    "    omega = OEOmega()\n",
    "    #set the maximum conformer generated to 1\n",
    "    omega.SetMaxConfs(1) \n",
    "    omega.SetIncludeInput(False)\n",
    "    omega.SetStrictAtomTypes(False) #Leniency in assigning atom types\n",
    "    omega.SetStrictStereo(True) #Don't generate conformers if stereochemistry not provided. Setting to false would pick a random stereoisomer\n",
    "    \n",
    "    # Generate new OEMol and parse SMILES\n",
    "    mol = OEMol()\n",
    "    OEParseSmiles( mol, smiles[idx])\n",
    "    OESetNeutralpHModel(mol)\n",
    "    # Generate one conformer\n",
    "    status = omega(mol)\n",
    "    if not status:\n",
    "        print(\"Error generating conformers for %s, %s. Mol index is %s\" % (smiles[idx], MoleculeIDs[idx],idx))\n",
    "\n",
    "    # Write out PDB of molecule\n",
    "    ofile = oemolostream('%s.pdb'%(MoleculeIDs[idx]))\n",
    "    OEWriteMolecule(ofile, mol)\n",
    "    ofile.close()\n",
    "\n",
    "    # Write out MOL2 of molecule\n",
    "    ofile = oemolostream('%s.mol2'%(MoleculeIDs[idx]))\n",
    "    OEWriteMolecule(ofile, mol)\n",
    "    ofile.close()\n",
    "    \n",
    "    # Write out SDF of molecule\n",
    "    ofile = oemolostream('%s.sdf'%(MoleculeIDs[idx]))\n",
    "    OEWriteMolecule(ofile, mol)\n",
    "    ofile.close()"
   ]
  },
  {
   "cell_type": "code",
   "execution_count": 5,
   "metadata": {},
   "outputs": [],
   "source": [
    "# Make files for O=C1CCCCC1(NC)C2=CC=CC=C2Cl (G5) by picking a random stereoisomer, idx 4 -- this is the racemate\n",
    "# Do same for G3 (idx 2), G4 (idx 4), G7 (6) -- these come up only when we set to neutral pH\n",
    "# so it's likely protonation of the nitrogen?\n",
    "idxs = [2, 3, 4, 6]\n",
    "\n",
    "omega = OEOmega()\n",
    "#set the maximum conformer generated to 1\n",
    "omega.SetMaxConfs(1) \n",
    "omega.SetIncludeInput(False)\n",
    "omega.SetStrictAtomTypes(False) #Leniency in assigning atom types\n",
    "omega.SetStrictStereo(False) #Don't generate conformers if stereochemistry not provided. Setting to false would pick a random stereoisomer\n",
    "\n",
    "for idx in idxs:\n",
    "    # Generate new OEMol and parse SMILES\n",
    "    mol = OEMol()\n",
    "    OEParseSmiles( mol, smiles[idx])\n",
    "    # Generate one conformer\n",
    "    status = omega(mol)\n",
    "    if not status:\n",
    "        print(\"Error generating conformers for %s, %s. Mol index is %s\" % (smiles[idx], MoleculeIDs[idx],idx))\n",
    "\n",
    "    # Write out PDB of molecule\n",
    "    ofile = oemolostream('%s.pdb'%(MoleculeIDs[idx]))\n",
    "    OEWriteMolecule(ofile, mol)\n",
    "    ofile.close()\n",
    "\n",
    "    # Write out MOL2 of molecule\n",
    "    ofile = oemolostream('%s.mol2'%(MoleculeIDs[idx]))\n",
    "    OEWriteMolecule(ofile, mol)\n",
    "    ofile.close()\n",
    "\n",
    "    # Write out SDF of molecule\n",
    "    ofile = oemolostream('%s.sdf'%(MoleculeIDs[idx]))\n",
    "    OEWriteMolecule(ofile, mol)\n",
    "    ofile.close()"
   ]
  },
  {
   "cell_type": "code",
   "execution_count": null,
   "metadata": {
    "collapsed": true
   },
   "outputs": [],
   "source": []
  }
 ],
 "metadata": {
  "kernelspec": {
   "display_name": "Python [conda env:root] *",
   "language": "python",
   "name": "conda-root-py"
  },
  "language_info": {
   "codemirror_mode": {
    "name": "ipython",
    "version": 3
   },
   "file_extension": ".py",
   "mimetype": "text/x-python",
   "name": "python",
   "nbconvert_exporter": "python",
   "pygments_lexer": "ipython3",
   "version": "3.7.3"
  },
  "toc": {
   "nav_menu": {},
   "number_sections": true,
   "sideBar": true,
   "skip_h1_title": false,
   "toc_cell": false,
   "toc_position": {},
   "toc_section_display": "block",
   "toc_window_display": false
  }
 },
 "nbformat": 4,
 "nbformat_minor": 2
}
