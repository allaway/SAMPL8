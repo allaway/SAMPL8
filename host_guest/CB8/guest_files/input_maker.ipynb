{
 "cells": [
  {
   "cell_type": "markdown",
   "metadata": {},
   "source": [
    "# Do some simple prep of compound structures from SMILES strings"
   ]
  },
  {
   "cell_type": "code",
   "execution_count": 15,
   "metadata": {},
   "outputs": [
    {
     "name": "stdout",
     "output_type": "stream",
     "text": [
      "Getting list of molecule IDs...\n",
      "Done!\n"
     ]
    }
   ],
   "source": [
    "# Make lists of the guest smiles strings and the molecule identifiers \n",
    "file = 'CB8_guest_smiles.txt'\n",
    "\n",
    "file = open(file, 'r')\n",
    "text = file.readlines()\n",
    "file.close()\n",
    "\n",
    "print(\"Getting list of molecule IDs...\")   \n",
    "MoleculeIDs = [] #SAMPL8 Molecule ID \n",
    "smiles = [] #isomeric SMILES\n",
    "\n",
    "#Loop over lines and parse\n",
    "for line in text:\n",
    "    tmp = line.split(';') #Split into columns\n",
    "    MoleculeID = tmp[1].strip() #mol ID\n",
    "    smi = tmp[0] #smiles string\n",
    "    try:\n",
    "        MoleculeIDs.append(MoleculeID)\n",
    "        smiles.append(smi)\n",
    "    except:\n",
    "        print(\"Error storing line: %s\" % line)\n",
    "print(\"Done!\")"
   ]
  },
  {
   "cell_type": "markdown",
   "metadata": {},
   "source": [
    "## Parse SMILES, store molecules"
   ]
  },
  {
   "cell_type": "code",
   "execution_count": 16,
   "metadata": {},
   "outputs": [],
   "source": [
    "from openeye.oechem import *\n",
    "from openeye.oeomega import * # conformer generation\n",
    "from openeye.oequacpac import * \n",
    "\n",
    "\n",
    "mols_by_ID = {}\n",
    "for idx in range(len(smiles)):\n",
    "    # Generate new OEMol and parse SMILES\n",
    "    mol = OEMol()\n",
    "    OEParseSmiles( mol, smiles[idx])\n",
    "    # Set neutral pH model to pick a \"reasonable\" neutral protonation state per OpenEye's Quacpac\n",
    "    OESetNeutralpHModel(mol)\n",
    "    mols_by_ID[MoleculeIDs[idx]] = mol\n"
   ]
  },
  {
   "cell_type": "markdown",
   "metadata": {},
   "source": [
    "## Tweak protonation states for some compounds\n",
    "\n",
    "Some compounds seem to be coming up as neutral which likely should be protonated -- particularly, morphine (G3), pKa 8.21 (so mainly protonated at pH 7.4, https://pubchem.ncbi.nlm.nih.gov/compound/Morphine#section=Decomposition) and hydromorphone (G4), pKa 8.3 (so mainly protonated at pH 7.4, https://pubchem.ncbi.nlm.nih.gov/compound/Hydromorphone#section=Optical-Rotation). Ketamine (G5), pKa 7.5 (https://pubchem.ncbi.nlm.nih.gov/compound/Ketamine#section=Environmental-Bioconcentration) is left as is and would be a mixture of states at pH 7.4.\n",
    "\n",
    "There's probably a more elegant way to do this (likely with a substructure search) but since G3 and G4 have only a single nitrogen I'll just loop over atoms and set the formal charge of the nitrogen to +1 and then let conformer generation take care of it"
   ]
  },
  {
   "cell_type": "code",
   "execution_count": 17,
   "metadata": {},
   "outputs": [],
   "source": [
    "for mol_id in ['G4', 'G5']:\n",
    "    mol = mols_by_ID[mol_id]\n",
    "    for atom in mol.GetAtoms():\n",
    "        if atom.GetAtomicNum()==7:\n",
    "            atom.SetFormalCharge(1)\n",
    "    mols_by_ID[mol_id]=mol"
   ]
  },
  {
   "cell_type": "markdown",
   "metadata": {},
   "source": [
    "# Generate conformers and assign partial charges"
   ]
  },
  {
   "cell_type": "code",
   "execution_count": 22,
   "metadata": {},
   "outputs": [],
   "source": [
    "\n",
    "\n",
    "for mol_id in mols_by_ID:\n",
    "    #initialize omega, this is a conformation generator\n",
    "    omega = OEOmega()\n",
    "    #set the maximum conformer generated to 1\n",
    "    omega.SetMaxConfs(1) \n",
    "    omega.SetIncludeInput(False)\n",
    "    omega.SetStrictAtomTypes(False) #Leniency in assigning atom types\n",
    "    omega.SetStrictStereo(True) #Don't generate conformers if stereochemistry not provided. Setting to false would pick a random stereoisomer\n",
    "    \n",
    "\n",
    "    mol = mols_by_ID[mol_id]\n",
    "    # Generate one conformer\n",
    "    status = omega(mol)\n",
    "    if not status:\n",
    "        print(\"Error generating conformers for %s\" % (mol_id))\n",
    "\n",
    "    # Assign charges\n",
    "    OEAssignPartialCharges(mol, OECharges_AM1BCC)\n",
    "        \n",
    "    # Write out PDB of molecule\n",
    "    ofile = oemolostream('%s.pdb'%(mol_id))\n",
    "    OEWriteMolecule(ofile, mol)\n",
    "    ofile.close()\n",
    "\n",
    "    # Write out MOL2 of molecule\n",
    "    ofile = oemolostream('%s.mol2'%(mol_id))\n",
    "    OEWriteMolecule(ofile, mol)\n",
    "    ofile.close()\n",
    "    \n",
    "    # Write out SDF of molecule\n",
    "    ofile = oemolostream('%s.sdf'%(mol_id))\n",
    "    OEWriteMolecule(ofile, mol)\n",
    "    ofile.close()"
   ]
  },
  {
   "cell_type": "markdown",
   "metadata": {},
   "source": [
    "## A couple of molecules have unspecified stereochemistry so pick a random stereoisomer\n",
    "\n",
    "We expect this for G5, which is a racemate. The other three -- G3, G4, and G7 -- have a nitrogen which would likely interconvert quickly in solution, but which needs stereochemistry specified for conformer generation. This may need attention from modelers, especially when there are other steroecenters."
   ]
  },
  {
   "cell_type": "code",
   "execution_count": 23,
   "metadata": {},
   "outputs": [],
   "source": [
    "# Make files for O=C1CCCCC1(NC)C2=CC=CC=C2Cl (G5) by picking a random stereoisomer, idx 4 -- this is the racemate\n",
    "# Do same for G3 (idx 2), G4 (idx 4), G7 (6) -- these come up only when we set to neutral pH\n",
    "# so it's likely protonation of the nitrogen?\n",
    "problem_IDs = ['G3', 'G4', 'G5', 'G7']\n",
    "\n",
    "omega = OEOmega()\n",
    "#set the maximum conformer generated to 1\n",
    "omega.SetMaxConfs(1) \n",
    "omega.SetIncludeInput(False)\n",
    "omega.SetStrictAtomTypes(False) #Leniency in assigning atom types\n",
    "omega.SetStrictStereo(False) #Don't generate conformers if stereochemistry not provided. Setting to false would pick a random stereoisomer\n",
    "\n",
    "for mol_id in problem_IDs:\n",
    "    # Generate new OEMol and parse SMILES\n",
    "    mol = mols_by_ID[mol_id]\n",
    "    # Generate one conformer\n",
    "    status = omega(mol)\n",
    "    if not status:\n",
    "        print(\"Error generating conformers for %s, %s. Mol index is %s\" % (smiles[idx], MoleculeIDs[idx],idx))\n",
    "\n",
    "    \n",
    "    # Assign charges\n",
    "    OEAssignPartialCharges(mol, OECharges_AM1BCC)    \n",
    "    \n",
    "    # Write out PDB of molecule\n",
    "    ofile = oemolostream('%s.pdb'%(mol_id))\n",
    "    OEWriteMolecule(ofile, mol)\n",
    "    ofile.close()\n",
    "\n",
    "    # Write out MOL2 of molecule\n",
    "    ofile = oemolostream('%s.mol2'%(mol_id))\n",
    "    OEWriteMolecule(ofile, mol)\n",
    "    ofile.close()\n",
    "\n",
    "    # Write out SDF of molecule\n",
    "    ofile = oemolostream('%s.sdf'%(mol_id))\n",
    "    OEWriteMolecule(ofile, mol)\n",
    "    ofile.close()"
   ]
  }
 ],
 "metadata": {
  "kernelspec": {
   "display_name": "Python [conda env:root] *",
   "language": "python",
   "name": "conda-root-py"
  },
  "language_info": {
   "codemirror_mode": {
    "name": "ipython",
    "version": 3
   },
   "file_extension": ".py",
   "mimetype": "text/x-python",
   "name": "python",
   "nbconvert_exporter": "python",
   "pygments_lexer": "ipython3",
   "version": "3.7.3"
  },
  "toc": {
   "nav_menu": {},
   "number_sections": true,
   "sideBar": true,
   "skip_h1_title": false,
   "toc_cell": false,
   "toc_position": {},
   "toc_section_display": "block",
   "toc_window_display": false
  }
 },
 "nbformat": 4,
 "nbformat_minor": 2
}
